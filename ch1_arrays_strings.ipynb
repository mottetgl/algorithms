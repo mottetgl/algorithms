{
 "cells": [
  {
   "cell_type": "markdown",
   "id": "curious-corporation",
   "metadata": {},
   "source": [
    "### Chapter 1: Arrays and Strings"
   ]
  },
  {
   "cell_type": "markdown",
   "id": "hundred-excitement",
   "metadata": {},
   "source": [
    "__1.1 Is Unique__: Implement an algorithm to determine if a string has all unique characters."
   ]
  },
  {
   "cell_type": "code",
   "execution_count": 35,
   "id": "welsh-sailing",
   "metadata": {},
   "outputs": [],
   "source": [
    "def chars_unique(s):\n",
    "    \"\"\"\n",
    "    Identifies whether a string's characters are all unique\n",
    "    O(n**2)\n",
    "    \n",
    "    Arguments:\n",
    "    ----------\n",
    "    string : string\n",
    "        string to check for duplicate characters\n",
    "    \n",
    "    Returns:\n",
    "    --------\n",
    "    boolean\n",
    "        whether string has all unique characters\n",
    "    \"\"\"\n",
    "    for i in range(0, len(s)):\n",
    "        for j in range(i+1, len(s)):\n",
    "            if s[i] == s[j]:\n",
    "                return False\n",
    "    \n",
    "    return True"
   ]
  },
  {
   "cell_type": "code",
   "execution_count": 36,
   "id": "floral-engineering",
   "metadata": {},
   "outputs": [
    {
     "name": "stdout",
     "output_type": "stream",
     "text": [
      "True\n",
      "True\n",
      "True\n",
      "True\n",
      "True\n"
     ]
    }
   ],
   "source": [
    "# unit testing\n",
    "print(chars_unique(\"abcdefg\") == True)\n",
    "print(chars_unique(\"11\") == False)\n",
    "print(chars_unique(\"  \") == False)\n",
    "print(chars_unique(\"\\\\\") == True)\n",
    "print(chars_unique(\"\\\\\\\\\") == False)"
   ]
  },
  {
   "cell_type": "code",
   "execution_count": 37,
   "id": "practical-angola",
   "metadata": {},
   "outputs": [],
   "source": [
    "def chars_unique_v2(s):\n",
    "    \"\"\"\n",
    "    Identifies whether a string's characters are all unique\n",
    "    O(n)\n",
    "    \n",
    "    Arguments:\n",
    "    ----------\n",
    "    string : string\n",
    "        string to check for duplicate characters\n",
    "    \n",
    "    Returns:\n",
    "    --------\n",
    "    boolean\n",
    "        whether string has all unique characters\n",
    "    \"\"\"\n",
    "    char_used = {i: False for i in range(128)}\n",
    "    \n",
    "    for i in s:\n",
    "        if char_used[ord(i)] == True:\n",
    "            return False\n",
    "        else:\n",
    "            char_used[ord(i)] = True\n",
    "   \n",
    "    return True"
   ]
  },
  {
   "cell_type": "code",
   "execution_count": 38,
   "id": "senior-sixth",
   "metadata": {},
   "outputs": [
    {
     "name": "stdout",
     "output_type": "stream",
     "text": [
      "True\n",
      "True\n",
      "True\n",
      "True\n",
      "True\n"
     ]
    }
   ],
   "source": [
    "# unit testing\n",
    "print(chars_unique_v2(\"abcdefg\") == True)\n",
    "print(chars_unique_v2(\"11\") == False)\n",
    "print(chars_unique_v2(\"  \") == False)\n",
    "print(chars_unique_v2(\"\\\\\") == True)\n",
    "print(chars_unique_v2(\"\\\\\\\\\") == False)"
   ]
  },
  {
   "cell_type": "markdown",
   "id": "apparent-appointment",
   "metadata": {},
   "source": [
    "__1.2 Check Permutation:__ Given two strings, write a method to decide if one is a permutation of the other"
   ]
  },
  {
   "cell_type": "code",
   "execution_count": 78,
   "id": "prepared-phase",
   "metadata": {},
   "outputs": [],
   "source": [
    "def check_permutation(a, b):\n",
    "    \"\"\"Checks if one string is a case-insensitive permutation of another\n",
    "    O(n)\n",
    "    \n",
    "    Arguments:\n",
    "    ----------\n",
    "    a : string\n",
    "        first string\n",
    "    b : string\n",
    "        second string\n",
    "    \n",
    "    Returns:\n",
    "    boolean\n",
    "        whether the two strings are permutations of eachother\n",
    "    \"\"\"\n",
    "    \n",
    "    dict_a = {i: 0 for i in range(128)}\n",
    "    dict_b = {i: 0 for i in range(128)}\n",
    "    \n",
    "    for c in a:\n",
    "        c = ord(c.lower())\n",
    "        dict_a[c] = dict_a[c] + 1\n",
    "        \n",
    "    for c in b:\n",
    "        c = ord(c.lower())\n",
    "        dict_b[c] = dict_b[c] + 1\n",
    "        \n",
    "    return dict_a == dict_b"
   ]
  },
  {
   "cell_type": "code",
   "execution_count": 81,
   "id": "earlier-medicare",
   "metadata": {},
   "outputs": [
    {
     "name": "stdout",
     "output_type": "stream",
     "text": [
      "True\n",
      "True\n",
      "True\n",
      "True\n",
      "True\n"
     ]
    }
   ],
   "source": [
    "# unit testing\n",
    "print(check_permutation('abc', 'abc') == True)\n",
    "print(check_permutation('aBc', 'Abc') == True)\n",
    "print(check_permutation('abc', 'cab') == True)\n",
    "print(check_permutation('abc', 'abcabc') == False)\n",
    "print(check_permutation('\\x7f', '\\x7f') == True)"
   ]
  },
  {
   "cell_type": "markdown",
   "id": "sunset-coupon",
   "metadata": {},
   "source": [
    "__1.3 URLify:__ Write a method to replace all spaces in a string with '%20'. You may assume that the string has sufficient space at the end to hold the additional characters, and that you are given the \"true\" length of the string. (Note: if implementing in Java, please use a character array so that you can perform this operation in place)"
   ]
  },
  {
   "cell_type": "code",
   "execution_count": 82,
   "id": "weighted-robin",
   "metadata": {},
   "outputs": [],
   "source": [
    "def urlify(s):\n",
    "    \"\"\"Replaces all spaces in a string with '%20'\n",
    "    \n",
    "    Arguments:\n",
    "    ----------\n",
    "    s : string\n",
    "        string to turn into URL\n",
    "        \n",
    "    Returns:\n",
    "    string\n",
    "        original string s where spaces are replaced with '%20'\n",
    "    \"\"\"\n",
    "    \n",
    "    return True"
   ]
  }
 ],
 "metadata": {
  "kernelspec": {
   "display_name": "Python 3",
   "language": "python",
   "name": "python3"
  },
  "language_info": {
   "codemirror_mode": {
    "name": "ipython",
    "version": 3
   },
   "file_extension": ".py",
   "mimetype": "text/x-python",
   "name": "python",
   "nbconvert_exporter": "python",
   "pygments_lexer": "ipython3",
   "version": "3.8.5"
  }
 },
 "nbformat": 4,
 "nbformat_minor": 5
}
