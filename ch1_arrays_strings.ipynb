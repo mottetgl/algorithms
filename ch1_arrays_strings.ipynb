{
 "cells": [
  {
   "cell_type": "markdown",
   "id": "curious-corporation",
   "metadata": {},
   "source": [
    "### Chapter 1: Arrays and Strings"
   ]
  },
  {
   "cell_type": "markdown",
   "id": "hundred-excitement",
   "metadata": {},
   "source": [
    "__1.1 Is Unique__: Implement an algorithm to determine if a string has all unique characters."
   ]
  },
  {
   "cell_type": "code",
   "execution_count": 35,
   "id": "welsh-sailing",
   "metadata": {},
   "outputs": [],
   "source": [
    "def chars_unique(s):\n",
    "    \"\"\"\n",
    "    Identifies whether a string's characters are all unique\n",
    "    O(n**2)\n",
    "    \n",
    "    Arguments:\n",
    "    ----------\n",
    "    string : string\n",
    "        string to check for duplicate characters\n",
    "    \n",
    "    Returns:\n",
    "    --------\n",
    "    boolean\n",
    "        whether string has all unique characters\n",
    "    \"\"\"\n",
    "    for i in range(0, len(s)):\n",
    "        for j in range(i+1, len(s)):\n",
    "            if s[i] == s[j]:\n",
    "                return False\n",
    "    \n",
    "    return True"
   ]
  },
  {
   "cell_type": "code",
   "execution_count": 36,
   "id": "floral-engineering",
   "metadata": {},
   "outputs": [
    {
     "name": "stdout",
     "output_type": "stream",
     "text": [
      "True\n",
      "True\n",
      "True\n",
      "True\n",
      "True\n"
     ]
    }
   ],
   "source": [
    "# unit testing\n",
    "print(chars_unique(\"abcdefg\") == True)\n",
    "print(chars_unique(\"11\") == False)\n",
    "print(chars_unique(\"  \") == False)\n",
    "print(chars_unique(\"\\\\\") == True)\n",
    "print(chars_unique(\"\\\\\\\\\") == False)"
   ]
  },
  {
   "cell_type": "code",
   "execution_count": 37,
   "id": "practical-angola",
   "metadata": {},
   "outputs": [],
   "source": [
    "def chars_unique_v2(s):\n",
    "    \"\"\"\n",
    "    Identifies whether a string's characters are all unique\n",
    "    O(n)\n",
    "    \n",
    "    Arguments:\n",
    "    ----------\n",
    "    string : string\n",
    "        string to check for duplicate characters\n",
    "    \n",
    "    Returns:\n",
    "    --------\n",
    "    boolean\n",
    "        whether string has all unique characters\n",
    "    \"\"\"\n",
    "    char_used = {i: False for i in range(128)}\n",
    "    \n",
    "    for i in s:\n",
    "        if char_used[ord(i)] == True:\n",
    "            return False\n",
    "        else:\n",
    "            char_used[ord(i)] = True\n",
    "   \n",
    "    return True"
   ]
  },
  {
   "cell_type": "code",
   "execution_count": 38,
   "id": "senior-sixth",
   "metadata": {},
   "outputs": [
    {
     "name": "stdout",
     "output_type": "stream",
     "text": [
      "True\n",
      "True\n",
      "True\n",
      "True\n",
      "True\n"
     ]
    }
   ],
   "source": [
    "# unit testing\n",
    "print(chars_unique_v2(\"abcdefg\") == True)\n",
    "print(chars_unique_v2(\"11\") == False)\n",
    "print(chars_unique_v2(\"  \") == False)\n",
    "print(chars_unique_v2(\"\\\\\") == True)\n",
    "print(chars_unique_v2(\"\\\\\\\\\") == False)"
   ]
  },
  {
   "cell_type": "markdown",
   "id": "apparent-appointment",
   "metadata": {},
   "source": [
    "__1.2 Check Permutation:__ Given two strings, write a method to decide if one is a permutation of the other"
   ]
  },
  {
   "cell_type": "code",
   "execution_count": 78,
   "id": "prepared-phase",
   "metadata": {},
   "outputs": [],
   "source": [
    "def check_permutation(a, b):\n",
    "    \"\"\"Checks if one string is a case-insensitive permutation of another\n",
    "    O(n)\n",
    "    \n",
    "    Arguments:\n",
    "    ----------\n",
    "    a : string\n",
    "        first string\n",
    "    b : string\n",
    "        second string\n",
    "    \n",
    "    Returns:\n",
    "    boolean\n",
    "        whether the two strings are permutations of eachother\n",
    "    \"\"\"\n",
    "    \n",
    "    dict_a = {i: 0 for i in range(128)}\n",
    "    dict_b = {i: 0 for i in range(128)}\n",
    "    \n",
    "    for c in a:\n",
    "        c = ord(c.lower())\n",
    "        dict_a[c] = dict_a[c] + 1\n",
    "        \n",
    "    for c in b:\n",
    "        c = ord(c.lower())\n",
    "        dict_b[c] = dict_b[c] + 1\n",
    "        \n",
    "    return dict_a == dict_b"
   ]
  },
  {
   "cell_type": "code",
   "execution_count": 81,
   "id": "earlier-medicare",
   "metadata": {},
   "outputs": [
    {
     "name": "stdout",
     "output_type": "stream",
     "text": [
      "True\n",
      "True\n",
      "True\n",
      "True\n",
      "True\n"
     ]
    }
   ],
   "source": [
    "# unit testing\n",
    "print(check_permutation('abc', 'abc') == True)\n",
    "print(check_permutation('aBc', 'Abc') == True)\n",
    "print(check_permutation('abc', 'cab') == True)\n",
    "print(check_permutation('abc', 'abcabc') == False)\n",
    "print(check_permutation('\\x7f', '\\x7f') == True)"
   ]
  },
  {
   "cell_type": "markdown",
   "id": "sunset-coupon",
   "metadata": {},
   "source": [
    "__1.3 URLify:__ Write a method to replace all spaces in a string with '%20'. You may assume that the string has sufficient space at the end to hold the additional characters, and that you are given the \"true\" length of the string. (Note: if implementing in Java, please use a character array so that you can perform this operation in place)"
   ]
  },
  {
   "cell_type": "code",
   "execution_count": 1,
   "id": "thrown-compatibility",
   "metadata": {},
   "outputs": [
    {
     "data": {
      "text/plain": [
       "['a', 'b', 'c', 'd']"
      ]
     },
     "execution_count": 1,
     "metadata": {},
     "output_type": "execute_result"
    }
   ],
   "source": [
    "x = 'abcd'\n",
    "[c for c in x]\n"
   ]
  },
  {
   "cell_type": "code",
   "execution_count": 8,
   "id": "weighted-robin",
   "metadata": {},
   "outputs": [],
   "source": [
    "def urlify(s):\n",
    "    \"\"\"Replaces all spaces in a string with '%20'\n",
    "    O(n)\n",
    "    \n",
    "    Arguments:\n",
    "    ----------\n",
    "    s : string\n",
    "        string to turn into URL\n",
    "        \n",
    "    Returns:\n",
    "    s_out : string\n",
    "        original string s where spaces are replaced with '%20'\n",
    "    \"\"\"\n",
    "    s_split = [c for c in s]\n",
    "    for i, c in enumerate(s_split):\n",
    "        if c == ' ':\n",
    "            s_split[i] = '%20'\n",
    "    \n",
    "    s_out = ''.join(s_split)\n",
    "    \n",
    "    return s_out"
   ]
  },
  {
   "cell_type": "code",
   "execution_count": 9,
   "id": "premium-weekly",
   "metadata": {},
   "outputs": [
    {
     "name": "stdout",
     "output_type": "stream",
     "text": [
      "True\n",
      "True\n",
      "True\n"
     ]
    }
   ],
   "source": [
    "print(urlify(\"www.space space.com\") == \"www.space%20space.com\")\n",
    "print(urlify(\"www.space  space.com\") == \"www.space%20%20space.com\")\n",
    "print(urlify(\" www.space space.com\") == \"%20www.space%20space.com\")"
   ]
  },
  {
   "cell_type": "markdown",
   "id": "willing-paragraph",
   "metadata": {},
   "source": [
    "__1.4 Palindrome Permutation:__ Given a string, write a function to check if it is a permutation of a palindrome. A palindrome is a word or phrase that is the same forwards and backwards. A permutation is a rearragement of letters. The palindrome does not need to be limited to just dictionary words. You can ignore casing and non-letter characters."
   ]
  },
  {
   "cell_type": "code",
   "execution_count": 49,
   "id": "miniature-slope",
   "metadata": {},
   "outputs": [],
   "source": [
    "def palindrome_permutation(s):\n",
    "    \"\"\"Check if a string is a permutation of a palindrome\n",
    "    O(n)\n",
    "    \n",
    "    Assume all characters are lower case letters\n",
    "    \n",
    "    Arguments:\n",
    "    ----------\n",
    "    s : string\n",
    "        string to check for palindrome permutation\n",
    "        \n",
    "    Returns:\n",
    "    --------\n",
    "    boolean\n",
    "        whether s is a palindrome permutation\"\"\"\n",
    "    \n",
    "    # count character frequency to get number of odds\n",
    "    char_count = {i: 0 for i in range(128)}\n",
    "    for c in s:\n",
    "        char_count[ord(c)] = char_count[ord(c)] + 1\n",
    "    \n",
    "    # string is a palindrome if exactly 0 or 1 odd frequency characters\n",
    "    # if exactly 0 odds, all characters appear even times (palindrome)\n",
    "    # if exactly 1 odds, create symmetry by putting odd in the middle (palindrome)\n",
    "    # if more than 1 odds, can't create symmetry (not a palindrome)\n",
    "    odds = 0\n",
    "    for k in char_count.keys():\n",
    "        if is_odd(char_count[k]):\n",
    "            odds += 1\n",
    "    \n",
    "    if odds > 1:\n",
    "        return False\n",
    "    else:\n",
    "        return True\n",
    "\n",
    "def is_odd(i):\n",
    "    \"\"\"Check if an integer is even\n",
    "    \n",
    "    Arguments:\n",
    "    ----------\n",
    "    i : integer\n",
    "    \n",
    "    Returns:\n",
    "    --------\n",
    "    boolean\n",
    "        True if even; False if odd\n",
    "    \"\"\"\n",
    "    if i % 2 == 1:\n",
    "        return True\n",
    "    else:\n",
    "        return False"
   ]
  },
  {
   "cell_type": "code",
   "execution_count": 50,
   "id": "proof-universal",
   "metadata": {},
   "outputs": [
    {
     "name": "stdout",
     "output_type": "stream",
     "text": [
      "True\n",
      "True\n",
      "True\n",
      "True\n",
      "True\n",
      "True\n",
      "True\n",
      "True\n",
      "True\n"
     ]
    }
   ],
   "source": [
    "print(palindrome_permutation(\"racecar\")==True)\n",
    "print(palindrome_permutation(\"carecar\")==True)\n",
    "print(palindrome_permutation(\"careaar\")==False)\n",
    "print(palindrome_permutation(\"anutforajaroftuna\")==True)\n",
    "print(palindrome_permutation(\"anutfaarojarotufn\")==True)\n",
    "print(palindrome_permutation(\"anbtfxarojrrotufn\")==False)\n",
    "print(palindrome_permutation(\"tacocat\")==True)\n",
    "print(palindrome_permutation(\"cttaoac\")==True)\n",
    "print(palindrome_permutation(\"ctaaoac\")==False)"
   ]
  },
  {
   "cell_type": "markdown",
   "id": "educational-invention",
   "metadata": {},
   "source": [
    "__1.5 One Away:__ There are three types of edits that can be performed on strings: insert a character, remove a character, or replace a character. Given two strings, write a function to echeck if they are one edit (or zero edits) away."
   ]
  },
  {
   "cell_type": "code",
   "execution_count": null,
   "id": "danish-bunny",
   "metadata": {},
   "outputs": [],
   "source": [
    "def is_one_away(a, b):\n",
    "    \"\"\"Checks if two strings are within one insert/remove/replace of each other\n",
    "    \n",
    "    Arguments:\n",
    "    a : string\n",
    "        first string\n",
    "    b : string\n",
    "        second string\n",
    "    \n",
    "    Returns:\n",
    "    boolean\n",
    "        whether a and b are one away\n",
    "    \"\"\"\n",
    "    budget = 1\n",
    "    if abs(len(a) - len(b)) > 1:\n",
    "        return False\n",
    "    if len(a) == len(b):\n",
    "        for i in range(a):\n",
    "            if a[i] != b[i]:\n",
    "                budget -= 1\n",
    "            if budget < 0:\n",
    "                return False\n",
    "        return True\n",
    "    else:\n",
    "        if len(a) > len(b):\n",
    "            lrg = a\n",
    "            sml = b\n",
    "        else:\n",
    "            lrg = b\n",
    "            sml = a\n",
    "        for i in range(sml):\n",
    "            if sml[i] == lrg[i + (1-budget)]:\n",
    "                continue\n",
    "            else:\n",
    "                budget -= 1\n",
    "            if budget < 0:\n",
    "                return False\n",
    "            \n",
    "\n",
    "        # all these things\n",
    "    \n",
    "\n"
   ]
  }
 ],
 "metadata": {
  "kernelspec": {
   "display_name": "Python 3",
   "language": "python",
   "name": "python3"
  },
  "language_info": {
   "codemirror_mode": {
    "name": "ipython",
    "version": 3
   },
   "file_extension": ".py",
   "mimetype": "text/x-python",
   "name": "python",
   "nbconvert_exporter": "python",
   "pygments_lexer": "ipython3",
   "version": "3.8.5"
  }
 },
 "nbformat": 4,
 "nbformat_minor": 5
}
