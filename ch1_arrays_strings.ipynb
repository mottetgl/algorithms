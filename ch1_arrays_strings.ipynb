{
 "cells": [
  {
   "cell_type": "markdown",
   "id": "curious-corporation",
   "metadata": {},
   "source": [
    "### Chapter 1: Arrays and Strings"
   ]
  },
  {
   "cell_type": "markdown",
   "id": "hundred-excitement",
   "metadata": {},
   "source": [
    "__1.1 Is Unique__: Implement an algorithm to determine if a string has all unique characters."
   ]
  },
  {
   "cell_type": "code",
   "execution_count": 35,
   "id": "welsh-sailing",
   "metadata": {},
   "outputs": [],
   "source": [
    "def chars_unique(s):\n",
    "    \"\"\"\n",
    "    Identifies whether a string's characters are all unique\n",
    "    O(n**2)\n",
    "    \n",
    "    Arguments:\n",
    "    ----------\n",
    "    string : string\n",
    "        string to check for duplicate characters\n",
    "    \n",
    "    Returns:\n",
    "    --------\n",
    "    boolean\n",
    "        whether string has all unique characters\n",
    "    \"\"\"\n",
    "    for i in range(0, len(s)):\n",
    "        for j in range(i+1, len(s)):\n",
    "            if s[i] == s[j]:\n",
    "                return False\n",
    "    \n",
    "    return True"
   ]
  },
  {
   "cell_type": "code",
   "execution_count": 36,
   "id": "floral-engineering",
   "metadata": {},
   "outputs": [
    {
     "name": "stdout",
     "output_type": "stream",
     "text": [
      "True\n",
      "True\n",
      "True\n",
      "True\n",
      "True\n"
     ]
    }
   ],
   "source": [
    "# unit testing\n",
    "print(chars_unique(\"abcdefg\") == True)\n",
    "print(chars_unique(\"11\") == False)\n",
    "print(chars_unique(\"  \") == False)\n",
    "print(chars_unique(\"\\\\\") == True)\n",
    "print(chars_unique(\"\\\\\\\\\") == False)"
   ]
  },
  {
   "cell_type": "code",
   "execution_count": 37,
   "id": "practical-angola",
   "metadata": {},
   "outputs": [],
   "source": [
    "def chars_unique_v2(s):\n",
    "    \"\"\"\n",
    "    Identifies whether a string's characters are all unique\n",
    "    O(n)\n",
    "    \n",
    "    Arguments:\n",
    "    ----------\n",
    "    string : string\n",
    "        string to check for duplicate characters\n",
    "    \n",
    "    Returns:\n",
    "    --------\n",
    "    boolean\n",
    "        whether string has all unique characters\n",
    "    \"\"\"\n",
    "    char_used = {i: False for i in range(128)}\n",
    "    \n",
    "    for i in s:\n",
    "        if char_used[ord(i)] == True:\n",
    "            return False\n",
    "        else:\n",
    "            char_used[ord(i)] = True\n",
    "   \n",
    "    return True"
   ]
  },
  {
   "cell_type": "code",
   "execution_count": 38,
   "id": "senior-sixth",
   "metadata": {},
   "outputs": [
    {
     "name": "stdout",
     "output_type": "stream",
     "text": [
      "True\n",
      "True\n",
      "True\n",
      "True\n",
      "True\n"
     ]
    }
   ],
   "source": [
    "# unit testing\n",
    "print(chars_unique_v2(\"abcdefg\") == True)\n",
    "print(chars_unique_v2(\"11\") == False)\n",
    "print(chars_unique_v2(\"  \") == False)\n",
    "print(chars_unique_v2(\"\\\\\") == True)\n",
    "print(chars_unique_v2(\"\\\\\\\\\") == False)"
   ]
  },
  {
   "cell_type": "markdown",
   "id": "apparent-appointment",
   "metadata": {},
   "source": [
    "__1.2 Check Permutation:__ Given two strings, write a method to decide if one is a permutation of the other"
   ]
  },
  {
   "cell_type": "code",
   "execution_count": 78,
   "id": "prepared-phase",
   "metadata": {},
   "outputs": [],
   "source": [
    "def check_permutation(a, b):\n",
    "    \"\"\"Checks if one string is a case-insensitive permutation of another\n",
    "    O(n)\n",
    "    \n",
    "    Arguments:\n",
    "    ----------\n",
    "    a : string\n",
    "        first string\n",
    "    b : string\n",
    "        second string\n",
    "    \n",
    "    Returns:\n",
    "    boolean\n",
    "        whether the two strings are permutations of eachother\n",
    "    \"\"\"\n",
    "    \n",
    "    dict_a = {i: 0 for i in range(128)}\n",
    "    dict_b = {i: 0 for i in range(128)}\n",
    "    \n",
    "    for c in a:\n",
    "        c = ord(c.lower())\n",
    "        dict_a[c] = dict_a[c] + 1\n",
    "        \n",
    "    for c in b:\n",
    "        c = ord(c.lower())\n",
    "        dict_b[c] = dict_b[c] + 1\n",
    "        \n",
    "    return dict_a == dict_b"
   ]
  },
  {
   "cell_type": "code",
   "execution_count": 81,
   "id": "earlier-medicare",
   "metadata": {},
   "outputs": [
    {
     "name": "stdout",
     "output_type": "stream",
     "text": [
      "True\n",
      "True\n",
      "True\n",
      "True\n",
      "True\n"
     ]
    }
   ],
   "source": [
    "# unit testing\n",
    "print(check_permutation('abc', 'abc') == True)\n",
    "print(check_permutation('aBc', 'Abc') == True)\n",
    "print(check_permutation('abc', 'cab') == True)\n",
    "print(check_permutation('abc', 'abcabc') == False)\n",
    "print(check_permutation('\\x7f', '\\x7f') == True)"
   ]
  },
  {
   "cell_type": "markdown",
   "id": "sunset-coupon",
   "metadata": {},
   "source": [
    "__1.3 URLify:__ Write a method to replace all spaces in a string with '%20'. You may assume that the string has sufficient space at the end to hold the additional characters, and that you are given the \"true\" length of the string. (Note: if implementing in Java, please use a character array so that you can perform this operation in place)"
   ]
  },
  {
   "cell_type": "code",
   "execution_count": 1,
   "id": "thrown-compatibility",
   "metadata": {},
   "outputs": [
    {
     "data": {
      "text/plain": [
       "['a', 'b', 'c', 'd']"
      ]
     },
     "execution_count": 1,
     "metadata": {},
     "output_type": "execute_result"
    }
   ],
   "source": [
    "x = 'abcd'\n",
    "[c for c in x]\n"
   ]
  },
  {
   "cell_type": "code",
   "execution_count": 8,
   "id": "weighted-robin",
   "metadata": {},
   "outputs": [],
   "source": [
    "def urlify(s):\n",
    "    \"\"\"Replaces all spaces in a string with '%20'\n",
    "    O(n)\n",
    "    \n",
    "    Arguments:\n",
    "    ----------\n",
    "    s : string\n",
    "        string to turn into URL\n",
    "        \n",
    "    Returns:\n",
    "    s_out : string\n",
    "        original string s where spaces are replaced with '%20'\n",
    "    \"\"\"\n",
    "    s_split = [c for c in s]\n",
    "    for i, c in enumerate(s_split):\n",
    "        if c == ' ':\n",
    "            s_split[i] = '%20'\n",
    "    \n",
    "    s_out = ''.join(s_split)\n",
    "    \n",
    "    return s_out"
   ]
  },
  {
   "cell_type": "code",
   "execution_count": 9,
   "id": "premium-weekly",
   "metadata": {},
   "outputs": [
    {
     "name": "stdout",
     "output_type": "stream",
     "text": [
      "True\n",
      "True\n",
      "True\n"
     ]
    }
   ],
   "source": [
    "print(urlify(\"www.space space.com\") == \"www.space%20space.com\")\n",
    "print(urlify(\"www.space  space.com\") == \"www.space%20%20space.com\")\n",
    "print(urlify(\" www.space space.com\") == \"%20www.space%20space.com\")"
   ]
  },
  {
   "cell_type": "markdown",
   "id": "willing-paragraph",
   "metadata": {},
   "source": [
    "__1.4 Palindrome Permutation:__ Given a string, write a function to check if it is a permutation of a palindrome. A palindrome is a word or phrase that is the same forwards and backwards. A permutation is a rearragement of letters. The palindrome does not need to be limited to just dictionary words. You can ignore casing and non-letter characters."
   ]
  },
  {
   "cell_type": "code",
   "execution_count": 49,
   "id": "miniature-slope",
   "metadata": {},
   "outputs": [],
   "source": [
    "def palindrome_permutation(s):\n",
    "    \"\"\"Check if a string is a permutation of a palindrome\n",
    "    O(n)\n",
    "    \n",
    "    Assume all characters are lower case letters\n",
    "    \n",
    "    Arguments:\n",
    "    ----------\n",
    "    s : string\n",
    "        string to check for palindrome permutation\n",
    "        \n",
    "    Returns:\n",
    "    --------\n",
    "    boolean\n",
    "        whether s is a palindrome permutation\"\"\"\n",
    "    \n",
    "    # count character frequency to get number of odds\n",
    "    char_count = {i: 0 for i in range(128)}\n",
    "    for c in s:\n",
    "        char_count[ord(c)] = char_count[ord(c)] + 1\n",
    "    \n",
    "    # string is a palindrome if exactly 0 or 1 odd frequency characters\n",
    "    # if exactly 0 odds, all characters appear even times (palindrome)\n",
    "    # if exactly 1 odds, create symmetry by putting odd in the middle (palindrome)\n",
    "    # if more than 1 odds, can't create symmetry (not a palindrome)\n",
    "    odds = 0\n",
    "    for k in char_count.keys():\n",
    "        if is_odd(char_count[k]):\n",
    "            odds += 1\n",
    "    \n",
    "    if odds > 1:\n",
    "        return False\n",
    "    else:\n",
    "        return True\n",
    "\n",
    "def is_odd(i):\n",
    "    \"\"\"Check if an integer is even\n",
    "    \n",
    "    Arguments:\n",
    "    ----------\n",
    "    i : integer\n",
    "    \n",
    "    Returns:\n",
    "    --------\n",
    "    boolean\n",
    "        True if even; False if odd\n",
    "    \"\"\"\n",
    "    if i % 2 == 1:\n",
    "        return True\n",
    "    else:\n",
    "        return False"
   ]
  },
  {
   "cell_type": "code",
   "execution_count": 50,
   "id": "proof-universal",
   "metadata": {},
   "outputs": [
    {
     "name": "stdout",
     "output_type": "stream",
     "text": [
      "True\n",
      "True\n",
      "True\n",
      "True\n",
      "True\n",
      "True\n",
      "True\n",
      "True\n",
      "True\n"
     ]
    }
   ],
   "source": [
    "print(palindrome_permutation(\"racecar\")==True)\n",
    "print(palindrome_permutation(\"carecar\")==True)\n",
    "print(palindrome_permutation(\"careaar\")==False)\n",
    "print(palindrome_permutation(\"anutforajaroftuna\")==True)\n",
    "print(palindrome_permutation(\"anutfaarojarotufn\")==True)\n",
    "print(palindrome_permutation(\"anbtfxarojrrotufn\")==False)\n",
    "print(palindrome_permutation(\"tacocat\")==True)\n",
    "print(palindrome_permutation(\"cttaoac\")==True)\n",
    "print(palindrome_permutation(\"ctaaoac\")==False)"
   ]
  },
  {
   "cell_type": "markdown",
   "id": "educational-invention",
   "metadata": {},
   "source": [
    "__1.5 One Away:__ There are three types of edits that can be performed on strings: insert a character, remove a character, or replace a character. Given two strings, write a function to check if they are one edit (or zero edits) away."
   ]
  },
  {
   "cell_type": "code",
   "execution_count": 62,
   "id": "german-indonesian",
   "metadata": {},
   "outputs": [],
   "source": [
    "def is_one_away(a, b):\n",
    "    \"\"\"Checks if two strings are within one insert/remove/replace of each other\n",
    "    \n",
    "    Arguments:\n",
    "    a : string\n",
    "        first string\n",
    "    b : string\n",
    "        second string\n",
    "    \n",
    "    Returns:\n",
    "    boolean\n",
    "        whether a and b are one away\n",
    "    \"\"\"\n",
    "    if len(a) <= len(b):\n",
    "        s1 = a\n",
    "        s2 = b\n",
    "    else:\n",
    "        s1 = b\n",
    "        s2 = a\n",
    "    \n",
    "    idx1 = 0\n",
    "    idx2 = 0\n",
    "    diff = False\n",
    "    \n",
    "    while (idx1 < len(s1)) and (idx2 < len(s2)):\n",
    "        if s1[idx1] == s2[idx2]:\n",
    "            idx1 += 1\n",
    "            idx2 += 1\n",
    "        else:\n",
    "            if diff == True:\n",
    "                return False\n",
    "            diff = True\n",
    "            if len(s1) == len(s2):\n",
    "                idx1 += 1\n",
    "            idx2 += 1\n",
    "    return True"
   ]
  },
  {
   "cell_type": "code",
   "execution_count": 63,
   "id": "civilian-insulin",
   "metadata": {},
   "outputs": [
    {
     "name": "stdout",
     "output_type": "stream",
     "text": [
      "True\n",
      "True\n",
      "True\n",
      "True\n",
      "True\n"
     ]
    }
   ],
   "source": [
    "print(is_one_away(\"abc\", \"abc\")==True)\n",
    "print(is_one_away(\"abc\", \"abcd\")==True)\n",
    "print(is_one_away(\"abcd\", \"abc\")==True)\n",
    "print(is_one_away(\"abcd\", \"bacd\")==False)\n",
    "print(is_one_away(\"abcd\", \"bbcd\")==True)"
   ]
  },
  {
   "cell_type": "markdown",
   "id": "backed-limitation",
   "metadata": {},
   "source": [
    "__1.6 String Compression:__ Implement a method to perform basic string compression using the counts of repeated characters. For example, the string aabcccccaaa would become a2b1c5a3. If the \"compressed\" string would not become smaller than the original string, your method should return the original string. You can assume the string has only uppercase and lowercase letters (a-z)."
   ]
  },
  {
   "cell_type": "code",
   "execution_count": 73,
   "id": "composed-oakland",
   "metadata": {},
   "outputs": [],
   "source": [
    "def compress_string(s):\n",
    "    \"\"\"Replace repeated characters in a string with the character and number of characters\n",
    "    \n",
    "    Arguments:\n",
    "    ----------\n",
    "    s : string\n",
    "        string to compress\n",
    "    \n",
    "    Returns:\n",
    "    --------\n",
    "    string\n",
    "        compressed string\n",
    "    \"\"\"\n",
    "    # need to go thru the string sequentially and build a new string\n",
    "    # keep track of number of character reptitions\n",
    "    # once we hit new character add the appropriate compressed segment onto the new string\n",
    "    reps = 0\n",
    "    comp_s = ''\n",
    "    \n",
    "    for i, c in enumerate(s):\n",
    "        if c == s[i+1]:\n",
    "            reps += 1\n",
    "        else:\n",
    "            seg = str(c) + str(reps)\n",
    "            comp_s = comp_s + seg\n",
    "            reps = 1\n",
    "    \n",
    "    return comp_s\n",
    "    "
   ]
  },
  {
   "cell_type": "code",
   "execution_count": 74,
   "id": "coated-triumph",
   "metadata": {},
   "outputs": [
    {
     "ename": "IndexError",
     "evalue": "string index out of range",
     "output_type": "error",
     "traceback": [
      "\u001b[1;31m---------------------------------------------------------------------------\u001b[0m",
      "\u001b[1;31mIndexError\u001b[0m                                Traceback (most recent call last)",
      "\u001b[1;32m<ipython-input-74-f12c140a49ff>\u001b[0m in \u001b[0;36m<module>\u001b[1;34m\u001b[0m\n\u001b[1;32m----> 1\u001b[1;33m \u001b[0mcompress_string\u001b[0m\u001b[1;33m(\u001b[0m\u001b[1;34m'aaaabbcccc'\u001b[0m\u001b[1;33m)\u001b[0m\u001b[1;33m\u001b[0m\u001b[1;33m\u001b[0m\u001b[0m\n\u001b[0m",
      "\u001b[1;32m<ipython-input-73-0da8d4b859d6>\u001b[0m in \u001b[0;36mcompress_string\u001b[1;34m(s)\u001b[0m\n\u001b[0;32m     19\u001b[0m \u001b[1;33m\u001b[0m\u001b[0m\n\u001b[0;32m     20\u001b[0m     \u001b[1;32mfor\u001b[0m \u001b[0mi\u001b[0m\u001b[1;33m,\u001b[0m \u001b[0mc\u001b[0m \u001b[1;32min\u001b[0m \u001b[0menumerate\u001b[0m\u001b[1;33m(\u001b[0m\u001b[0ms\u001b[0m\u001b[1;33m)\u001b[0m\u001b[1;33m:\u001b[0m\u001b[1;33m\u001b[0m\u001b[1;33m\u001b[0m\u001b[0m\n\u001b[1;32m---> 21\u001b[1;33m         \u001b[1;32mif\u001b[0m \u001b[0mc\u001b[0m \u001b[1;33m==\u001b[0m \u001b[0ms\u001b[0m\u001b[1;33m[\u001b[0m\u001b[0mi\u001b[0m\u001b[1;33m+\u001b[0m\u001b[1;36m1\u001b[0m\u001b[1;33m]\u001b[0m\u001b[1;33m:\u001b[0m\u001b[1;33m\u001b[0m\u001b[1;33m\u001b[0m\u001b[0m\n\u001b[0m\u001b[0;32m     22\u001b[0m             \u001b[0mreps\u001b[0m \u001b[1;33m+=\u001b[0m \u001b[1;36m1\u001b[0m\u001b[1;33m\u001b[0m\u001b[1;33m\u001b[0m\u001b[0m\n\u001b[0;32m     23\u001b[0m         \u001b[1;32melse\u001b[0m\u001b[1;33m:\u001b[0m\u001b[1;33m\u001b[0m\u001b[1;33m\u001b[0m\u001b[0m\n",
      "\u001b[1;31mIndexError\u001b[0m: string index out of range"
     ]
    }
   ],
   "source": [
    "compress_string('aaaabbcccc')"
   ]
  }
 ],
 "metadata": {
  "kernelspec": {
   "display_name": "Python 3",
   "language": "python",
   "name": "python3"
  },
  "language_info": {
   "codemirror_mode": {
    "name": "ipython",
    "version": 3
   },
   "file_extension": ".py",
   "mimetype": "text/x-python",
   "name": "python",
   "nbconvert_exporter": "python",
   "pygments_lexer": "ipython3",
   "version": "3.8.5"
  }
 },
 "nbformat": 4,
 "nbformat_minor": 5
}
