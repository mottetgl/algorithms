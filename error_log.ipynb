{
 "cells": [
  {
   "cell_type": "markdown",
   "id": "favorite-computer",
   "metadata": {},
   "source": [
    "# Log of coding mistakes\n",
    "***"
   ]
  },
  {
   "cell_type": "markdown",
   "id": "pacific-console",
   "metadata": {},
   "source": [
    "### Chapter 1: Arrays and Strings\n",
    "\n",
    " - forgot to handle upper/lower case\n",
    " - used & without parenthesis which broke a loop (True statement evaluated to False); need to use \"and\" or add parenthesis as a precaution"
   ]
  },
  {
   "cell_type": "code",
   "execution_count": null,
   "id": "postal-cleveland",
   "metadata": {},
   "outputs": [],
   "source": []
  }
 ],
 "metadata": {
  "kernelspec": {
   "display_name": "Python 3",
   "language": "python",
   "name": "python3"
  },
  "language_info": {
   "codemirror_mode": {
    "name": "ipython",
    "version": 3
   },
   "file_extension": ".py",
   "mimetype": "text/x-python",
   "name": "python",
   "nbconvert_exporter": "python",
   "pygments_lexer": "ipython3",
   "version": "3.8.5"
  }
 },
 "nbformat": 4,
 "nbformat_minor": 5
}
