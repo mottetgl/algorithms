{
 "cells": [
  {
   "cell_type": "code",
   "execution_count": null,
   "id": "organized-manitoba",
   "metadata": {},
   "outputs": [],
   "source": [
    "# does array A contain the integer t?\n",
    "def IntInArray(t, A):\n",
    "    \"\"\"\n",
    "    Determines whether an integer is contained in an array.\n",
    "    \n",
    "    Arguments:\n",
    "    t -- integer\n",
    "    A -- array\n",
    "    \n",
    "    Returns:\n",
    "    out -- True/False indicating whether integer is containe in array.\n",
    "    \"\"\"\n",
    "    out = False\n",
    "    for i in range(len(A)):\n",
    "        if A[i] == t:\n",
    "            out = True\n",
    "    return out"
   ]
  },
  {
   "cell_type": "code",
   "execution_count": null,
   "id": "material-saudi",
   "metadata": {},
   "outputs": [],
   "source": [
    "IntInArray(5, [1, 2, 3, 4, 5])"
   ]
  },
  {
   "cell_type": "code",
   "execution_count": null,
   "id": "prerequisite-tracker",
   "metadata": {},
   "outputs": [],
   "source": [
    "# given A and B, do they have an entry in common\n",
    "def CommonEntry(A, B):\n",
    "    \"\"\"\n",
    "    Determines whether two arrays have a common entry.\n",
    "    \n",
    "    Arguments:\n",
    "    A - first array\n",
    "    B - second array\n",
    "    \n",
    "    Returns:\n",
    "    out -- True/False indicating whether two arrays have a common entry.\n",
    "    \"\"\"\n",
    "    out = False\n",
    "    for i in range(0,len(A)):\n",
    "        for j in range(0,len(B)):\n",
    "            if A[i] == B[j]:\n",
    "                out = True\n",
    "    return out"
   ]
  },
  {
   "cell_type": "code",
   "execution_count": null,
   "id": "divided-military",
   "metadata": {},
   "outputs": [],
   "source": [
    "print(CommonEntry([9,5,7,4], [1,0,3]))\n",
    "print(CommonEntry([9,5,7,4], [1,5,3]))\n",
    "print(CommonEntry([9,5,7,4], [1]))"
   ]
  },
  {
   "cell_type": "code",
   "execution_count": 63,
   "id": "acquired-ordinary",
   "metadata": {},
   "outputs": [],
   "source": [
    "def grade_school_multiplication(a, b):\n",
    "    \"\"\"\n",
    "    Grade school implementation of integer multiplication\n",
    "    \n",
    "    Arguments:\n",
    "    a -- first integer\n",
    "    b -- second integer\n",
    "    \n",
    "    Returns:\n",
    "    total -- product of a and b\n",
    "    \"\"\"\n",
    "    \n",
    "    a = [c for c in str(a)][::-1]\n",
    "    b = [c for c in str(b)][::-1]\n",
    "    total = 0\n",
    "\n",
    "    for i in range(0, len(b)): # iterate thru bottom number\n",
    "        i_subtotal = '0'*i\n",
    "        carry = 0\n",
    "        for j in range(0, len(a)): # iterate thru top number\n",
    "            x = str(int(b[i]) * int(a[j]) + carry)\n",
    "            keep = x[-1]\n",
    "            i_subtotal = str(keep) + i_subtotal\n",
    "            if len(x) > 1:\n",
    "                carry = int(x[-2])\n",
    "            else:\n",
    "                carry = 0\n",
    "        if carry > 0:\n",
    "            i_subtotal = str(carry) + i_subtotal\n",
    "        total = total + int(i_subtotal)\n",
    "    return total"
   ]
  },
  {
   "cell_type": "code",
   "execution_count": 66,
   "id": "present-murder",
   "metadata": {},
   "outputs": [
    {
     "name": "stdout",
     "output_type": "stream",
     "text": [
      "True\n",
      "True\n",
      "True\n",
      "True\n",
      "True\n",
      "True\n",
      "True\n"
     ]
    }
   ],
   "source": [
    "# test cases\n",
    "print(grade_school_multiplication(5, 11) == 5*11)\n",
    "print(grade_school_multiplication(11, 5) == 11*5)\n",
    "print(grade_school_multiplication(11, 11) == 11*11)\n",
    "print(grade_school_multiplication(100, 111) == 100*111)\n",
    "print(grade_school_multiplication(0, 1) == 0*1)\n",
    "print(grade_school_multiplication(1, 0) == 1*0)\n",
    "print(grade_school_multiplication(0, 0) == 0*0)"
   ]
  },
  {
   "cell_type": "code",
   "execution_count": 67,
   "id": "related-resistance",
   "metadata": {},
   "outputs": [
    {
     "name": "stdout",
     "output_type": "stream",
     "text": [
      "8539734222673567065463550869546574495034888535765114961879601127067743044893204848617875072216249073013374895871952806582723184\n"
     ]
    }
   ],
   "source": [
    "# multiplication algorithm\n",
    "a = 3141592653589793238462643383279502884197169399375105820974944592\n",
    "b = 2718281828459045235360287471352662497757247093699959574966967627\n",
    "print(grade_school_multiplication(a, b))\n",
    "#note: number of digits is a power of 2"
   ]
  },
  {
   "cell_type": "code",
   "execution_count": null,
   "id": "minute-market",
   "metadata": {},
   "outputs": [],
   "source": []
  },
  {
   "cell_type": "code",
   "execution_count": null,
   "id": "featured-bradley",
   "metadata": {},
   "outputs": [],
   "source": []
  }
 ],
 "metadata": {
  "kernelspec": {
   "display_name": "Python 3",
   "language": "python",
   "name": "python3"
  },
  "language_info": {
   "codemirror_mode": {
    "name": "ipython",
    "version": 3
   },
   "file_extension": ".py",
   "mimetype": "text/x-python",
   "name": "python",
   "nbconvert_exporter": "python",
   "pygments_lexer": "ipython3",
   "version": "3.8.5"
  }
 },
 "nbformat": 4,
 "nbformat_minor": 5
}
