{
 "cells": [
  {
   "cell_type": "code",
   "execution_count": 18,
   "id": "organized-manitoba",
   "metadata": {},
   "outputs": [],
   "source": [
    "# does array A contain the integer t?\n",
    "def IntInArray(t, A):\n",
    "    \"\"\"\n",
    "    Determines whether an integer is contained in an array.\n",
    "    \n",
    "    Arguments:\n",
    "    t -- integer\n",
    "    A -- array\n",
    "    \n",
    "    Returns:\n",
    "    out -- True/False indicating whether integer is containe in array.\n",
    "    \"\"\"\n",
    "    out = False\n",
    "    for i in range(len(A)):\n",
    "        if A[i] == t:\n",
    "            out = True\n",
    "    return out"
   ]
  },
  {
   "cell_type": "code",
   "execution_count": 19,
   "id": "material-saudi",
   "metadata": {},
   "outputs": [
    {
     "data": {
      "text/plain": [
       "True"
      ]
     },
     "execution_count": 19,
     "metadata": {},
     "output_type": "execute_result"
    }
   ],
   "source": [
    "IntInArray(5, [1, 2, 3, 4, 5])"
   ]
  },
  {
   "cell_type": "code",
   "execution_count": 21,
   "id": "prerequisite-tracker",
   "metadata": {},
   "outputs": [],
   "source": [
    "# given A and B, do they have an entry in common\n",
    "def CommonEntry(A, B):\n",
    "    \"\"\"\n",
    "    Determines whether two arrays have a common entry.\n",
    "    \n",
    "    Arguments:\n",
    "    A - first array\n",
    "    B - second array\n",
    "    \n",
    "    Returns:\n",
    "    out -- True/False indicating whether two arrays have a common entry.\n",
    "    \"\"\"\n",
    "    out = False\n",
    "    for i in range(0,len(A)):\n",
    "        for j in range(0,len(B)):\n",
    "            if A[i] == B[j]:\n",
    "                out = True\n",
    "    return out"
   ]
  },
  {
   "cell_type": "code",
   "execution_count": 26,
   "id": "divided-military",
   "metadata": {},
   "outputs": [
    {
     "name": "stdout",
     "output_type": "stream",
     "text": [
      "False\n",
      "True\n",
      "False\n"
     ]
    }
   ],
   "source": [
    "print(CommonEntry([9,5,7,4], [1,0,3]))\n",
    "print(CommonEntry([9,5,7,4], [1,5,3]))\n",
    "print(CommonEntry([9,5,7,4], [1]))"
   ]
  },
  {
   "cell_type": "code",
   "execution_count": null,
   "id": "related-resistance",
   "metadata": {},
   "outputs": [],
   "source": []
  }
 ],
 "metadata": {
  "kernelspec": {
   "display_name": "Python 3",
   "language": "python",
   "name": "python3"
  },
  "language_info": {
   "codemirror_mode": {
    "name": "ipython",
    "version": 3
   },
   "file_extension": ".py",
   "mimetype": "text/x-python",
   "name": "python",
   "nbconvert_exporter": "python",
   "pygments_lexer": "ipython3",
   "version": "3.8.5"
  }
 },
 "nbformat": 4,
 "nbformat_minor": 5
}
